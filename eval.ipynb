{
 "cells": [
  {
   "cell_type": "code",
   "execution_count": 1,
   "id": "a31d5e77",
   "metadata": {},
   "outputs": [],
   "source": [
    "import os.path as osp\n",
    "import torch\n",
    "import numpy as np\n",
    "from datasets import CardsDataset\n",
    "from augmentations import SSDAugmentation, BaseTransform\n",
    "from torchvision.models.detection import ssd300_vgg16 as ssd300\n",
    "from mAP import intersection_over_union, mean_average_precision, f1_score\n",
    "from IPython.display import clear_output"
   ]
  },
  {
   "cell_type": "code",
   "execution_count": 2,
   "id": "4759e1b7",
   "metadata": {},
   "outputs": [],
   "source": [
    "def eval(model, dataset, threshold=0.3):\n",
    "    model.eval()\n",
    "    list_pred_boxes = []\n",
    "    list_truth_boxes = []\n",
    "    mAP = 0\n",
    "    ap = []\n",
    "    \n",
    "    for i in range(len(dataset)):\n",
    "        print('Detect image {}/{} '.format(i+1, len(dataset)))\n",
    "        \n",
    "        img, label = dataset[i]\n",
    "        prediction = model([img])\n",
    "        \n",
    "        truth_boxes = label['boxes']\n",
    "        truth_labels = label['labels']\n",
    "        pred_boxes = prediction[0]['boxes']\n",
    "        pred_labels = prediction[0]['labels']\n",
    "        scores = prediction[0]['scores']\n",
    "        \n",
    "        for j in range(len(truth_boxes)):\n",
    "            list_truth_boxes.append([i, truth_labels[j], truth_boxes[j]])\n",
    "        \n",
    "        for j in range(len(pred_boxes)):\n",
    "            list_pred_boxes.append([i, pred_labels[j], scores[j], pred_boxes[j]])\n",
    "    \n",
    "    threshs = np.arange(0.5, 1.0, 0.05)\n",
    "    \n",
    "    for thresh in threshs:\n",
    "        ap.append(mean_average_precision(list_pred_boxes, list_truth_boxes, thresh))\n",
    "    \n",
    "    f1, rec, prec = f1_score(list_pred_boxes, list_truth_boxes, score_threshold=threshold)\n",
    "    mAP = np.mean(ap)\n",
    "    clear_output(wait=True)\n",
    "    \n",
    "    return mAP, ap, f1, rec, prec"
   ]
  },
  {
   "cell_type": "code",
   "execution_count": 3,
   "id": "cd83a813",
   "metadata": {},
   "outputs": [
    {
     "name": "stderr",
     "output_type": "stream",
     "text": [
      "D:\\Anaconda3\\lib\\site-packages\\torch\\nn\\functional.py:718: UserWarning: Named tensors and all their associated APIs are an experimental feature and subject to change. Please do not use them for anything important until they are released as stable. (Triggered internally at  ..\\c10/core/TensorImpl.h:1156.)\n",
      "  return torch.max_pool2d(input, kernel_size, stride, padding, dilation, ceil_mode)\n"
     ]
    },
    {
     "name": "stdout",
     "output_type": "stream",
     "text": [
      "\n"
     ]
    }
   ],
   "source": [
    "home = osp.expanduser(\"~\")\n",
    "\n",
    "get_dir = '\\project_SSD\\data'\n",
    "data_root = home+get_dir\n",
    "\n",
    "NUM_CLASSES = 7\n",
    "labels_names = ('backbone',\n",
    "                'nine', 'ten', 'jack', \n",
    "                'queen', 'king', 'ace')\n",
    "dataset = CardsDataset(root=data_root, mode='test', transform=BaseTransform())\n",
    "\n",
    "weights = 'weights/SSD300Final.pth'\n",
    "model = ssd300(num_classes=NUM_CLASSES, pretrained_backbone=True)\n",
    "model.load_state_dict(torch.load(weights))\n",
    "\n",
    "print()"
   ]
  },
  {
   "cell_type": "code",
   "execution_count": 4,
   "id": "cebae32d",
   "metadata": {
    "scrolled": true
   },
   "outputs": [
    {
     "name": "stdout",
     "output_type": "stream",
     "text": [
      "mAP: 0.18433085083961487; AP50: 0.35620370507240295\n",
      "Precision: 0.39463947465022403; Recall: 0.3418028950691223; F1: 0.35937084188720364\n"
     ]
    }
   ],
   "source": [
    "mAP, ap, f1, rec, prec = eval(model, dataset, 0.6)\n",
    "print('mAP: {}; AP50: {}'.format(mAP, ap[0]))\n",
    "print('Precision: {}; Recall: {}; F1: {}'.format(np.mean(prec), np.mean(rec), np.mean(f1)))"
   ]
  },
  {
   "cell_type": "code",
   "execution_count": null,
   "id": "5974dae9",
   "metadata": {},
   "outputs": [],
   "source": []
  }
 ],
 "metadata": {
  "kernelspec": {
   "display_name": "Python 3",
   "language": "python",
   "name": "python3"
  },
  "language_info": {
   "codemirror_mode": {
    "name": "ipython",
    "version": 3
   },
   "file_extension": ".py",
   "mimetype": "text/x-python",
   "name": "python",
   "nbconvert_exporter": "python",
   "pygments_lexer": "ipython3",
   "version": "3.8.8"
  }
 },
 "nbformat": 4,
 "nbformat_minor": 5
}
